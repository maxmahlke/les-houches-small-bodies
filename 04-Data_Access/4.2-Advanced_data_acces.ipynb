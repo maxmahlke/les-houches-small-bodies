{
 "cells": [
  {
   "cell_type": "markdown",
   "id": "289be751",
   "metadata": {},
   "source": [
    "# Selecting many objects based on physical parameters\n",
    "\n",
    "The \"First 100 numbered asteroids\" example above in tutorial`4.1` is rather artificial. Instead,\n",
    "we might want to select asteroids based on shared physical properties. Using\n",
    "the `Rock` class or the `rocks.rocks` function is not suitable here as we don't\n",
    "know the parameters of the objects before we query them.\n",
    "\n",
    "Instead, besides the single-object summary that is the ssoCard, SsODNet offers\n",
    "the *Big Flat Table* (BFT) to access the attributes of *all* known asteroids.\n",
    "This makes it easy to query for asteroids based on shared properties. In the example below,\n",
    "we load this table and select all D-type asteroids."
   ]
  },
  {
   "cell_type": "code",
   "execution_count": null,
   "id": "814a4807",
   "metadata": {},
   "outputs": [],
   "source": [
    "# Load BFT as pandas DataFrame\n",
    "bft = rocks.load_bft()\n",
    "\n",
    "# Get asteroids that have been classified as D-type\n",
    "dtypes = bft[bft['taxonomy.class'].isin(['D'])]\n",
    "print(f\"Found {len(dtypes)} asteroids.\") "
   ]
  },
  {
   "cell_type": "markdown",
   "id": "13bcf727",
   "metadata": {},
   "source": [
    "Yes, you're right: We are using a `pandas` DataFrame here, and above we talked about the downsides of this.\n",
    "However, we are currently not focused on a single object, but on a large number of them. It is perfectly fine here to think about\n",
    "indexing a large table because that is in fact what we are doing: selecting based on shared properties.\n",
    "\n",
    "Philosophical reasoning aside, the switch to the `pandas` DataFrame unfortunately comes with some tedious syntax again.\n",
    "For example, to plot the proper semi-major axis versus the albedo of all our D-types, we write the following code."
   ]
  },
  {
   "cell_type": "code",
   "execution_count": null,
   "id": "98259cbb",
   "metadata": {},
   "outputs": [],
   "source": [
    "fig, ax = plt.subplots()\n",
    "\n",
    "ax.scatter(dtypes[\"proper_elements.proper_semi_major_axis.value\"], dtypes[\"albedo.value\"], s=10)\n",
    "ax.set(xlabel='Proper Semi-major Axis / au', ylabel='Albedo')"
   ]
  },
  {
   "cell_type": "markdown",
   "id": "59d3fe9f",
   "metadata": {},
   "source": [
    "It's not pretty but it works well. And we can always switch back to using `Rock` representations of our objects (though I wouldn't recommend this\n",
    "if you have more than ~500 objects):"
   ]
  },
  {
   "cell_type": "code",
   "execution_count": null,
   "id": "466860bf",
   "metadata": {},
   "outputs": [],
   "source": [
    "dtypes = dtypes[:20]  # only use 20 of them for execution time, it's a proof-of-concept\n",
    "dtypes = rocks.rocks(dtypes['sso_name'])\n",
    "dtypes"
   ]
  },
  {
   "cell_type": "markdown",
   "id": "ad53ab99",
   "metadata": {},
   "source": [
    "# Extending Catalogue Data\n",
    "\n",
    "In this tutorial, we take a catalogue of asteroid data and extend it using the `astroquery` and `rocks` packages.\n",
    "This is a common task when working with archival data and we will see frequently-occurring issues and how to solve them.\n",
    "\n",
    "The catalogue we will be working with is the first version of the *Moving Objects Catalog* (MOC1) of the SDSS survey."
   ]
  },
  {
   "cell_type": "code",
   "execution_count": 1,
   "id": "6a3f8a21",
   "metadata": {},
   "outputs": [],
   "source": [
    "import time\n",
    "\n",
    "from astroquery.mpc import MPC\n",
    "import matplotlib.pyplot as plt\n",
    "import numpy as np\n",
    "import pandas as pd\n",
    "import rocks\n",
    "from tqdm import tqdm  # for progress bars"
   ]
  },
  {
   "cell_type": "markdown",
   "id": "21116e87",
   "metadata": {},
   "source": [
    "First task: Acquire the catalogue. We can download it and read it from file (do\n",
    "this if you expect to use it frequently), but for the purpose of demonstration,\n",
    "we use a nice feature of the `pandas` package: Most data-ingestion functions\n",
    "like `read_csv`, `read_json`, `read_fwf` (fixed-width format) accept URLs\n",
    "pointing to files. Here, we point to a `gzip` compressed version of the\n",
    "catalogue and provide `pandas` with some metadata to parse the data it is\n",
    "downloading. We don't need all the information, we only get the number,\n",
    "designation, and the ugriz magnitudes from the catalogue."
   ]
  },
  {
   "cell_type": "code",
   "execution_count": 2,
   "id": "37f14517",
   "metadata": {},
   "outputs": [
    {
     "name": "stdout",
     "output_type": "stream",
     "text": [
      "Number of observations in SDSS MOC1: 58117\n"
     ]
    },
    {
     "data": {
      "text/html": [
       "<div>\n",
       "<style scoped>\n",
       "    .dataframe tbody tr th:only-of-type {\n",
       "        vertical-align: middle;\n",
       "    }\n",
       "\n",
       "    .dataframe tbody tr th {\n",
       "        vertical-align: top;\n",
       "    }\n",
       "\n",
       "    .dataframe thead th {\n",
       "        text-align: right;\n",
       "    }\n",
       "</style>\n",
       "<table border=\"1\" class=\"dataframe\">\n",
       "  <thead>\n",
       "    <tr style=\"text-align: right;\">\n",
       "      <th></th>\n",
       "      <th>numeration</th>\n",
       "      <th>designation</th>\n",
       "      <th>u</th>\n",
       "      <th>g</th>\n",
       "      <th>r</th>\n",
       "      <th>i</th>\n",
       "      <th>z</th>\n",
       "    </tr>\n",
       "  </thead>\n",
       "  <tbody>\n",
       "    <tr>\n",
       "      <th>0</th>\n",
       "      <td>0</td>\n",
       "      <td>-</td>\n",
       "      <td>22.70</td>\n",
       "      <td>20.56</td>\n",
       "      <td>20.00</td>\n",
       "      <td>19.83</td>\n",
       "      <td>19.95</td>\n",
       "    </tr>\n",
       "    <tr>\n",
       "      <th>1</th>\n",
       "      <td>0</td>\n",
       "      <td>1999_RL189</td>\n",
       "      <td>21.41</td>\n",
       "      <td>19.88</td>\n",
       "      <td>19.22</td>\n",
       "      <td>18.92</td>\n",
       "      <td>19.01</td>\n",
       "    </tr>\n",
       "    <tr>\n",
       "      <th>2</th>\n",
       "      <td>0</td>\n",
       "      <td>-</td>\n",
       "      <td>22.54</td>\n",
       "      <td>21.34</td>\n",
       "      <td>20.49</td>\n",
       "      <td>20.21</td>\n",
       "      <td>20.49</td>\n",
       "    </tr>\n",
       "    <tr>\n",
       "      <th>3</th>\n",
       "      <td>11659</td>\n",
       "      <td>1997_EX41</td>\n",
       "      <td>19.86</td>\n",
       "      <td>18.30</td>\n",
       "      <td>17.81</td>\n",
       "      <td>17.70</td>\n",
       "      <td>17.70</td>\n",
       "    </tr>\n",
       "    <tr>\n",
       "      <th>4</th>\n",
       "      <td>0</td>\n",
       "      <td>-</td>\n",
       "      <td>22.48</td>\n",
       "      <td>21.34</td>\n",
       "      <td>20.74</td>\n",
       "      <td>20.68</td>\n",
       "      <td>20.23</td>\n",
       "    </tr>\n",
       "  </tbody>\n",
       "</table>\n",
       "</div>"
      ],
      "text/plain": [
       "   numeration designation      u      g      r      i      z\n",
       "0           0           -  22.70  20.56  20.00  19.83  19.95\n",
       "1           0  1999_RL189  21.41  19.88  19.22  18.92  19.01\n",
       "2           0           -  22.54  21.34  20.49  20.21  20.49\n",
       "3       11659   1997_EX41  19.86  18.30  17.81  17.70  17.70\n",
       "4           0           -  22.48  21.34  20.74  20.68  20.23"
      ]
     },
     "execution_count": 2,
     "metadata": {},
     "output_type": "execute_result"
    }
   ],
   "source": [
    "data = pd.read_fwf(\n",
    "    \"https://faculty.washington.edu/ivezic/sdssmoc/ADR1.dat.gz\",\n",
    "    colspecs=[(244, 250), (250, 270), (163, 168), (174, 179), (185, 190), (196, 201), (207, 212)],\n",
    "    names=[\"numeration\", \"designation\", 'u', 'g', 'r', 'i', 'z'],\n",
    "    compression='gzip'\n",
    ")\n",
    "\n",
    "print(f\"Number of observations in SDSS MOC1: {len(data)}\")\n",
    "data.head()"
   ]
  },
  {
   "cell_type": "markdown",
   "id": "e05a882c",
   "metadata": {},
   "source": [
    "We note that there are asteroids with `numeration = 0` and `designation = '-'`. The [documentation](http://faculty.washington.edu/ivezic/sdssmoc/sdssmoc1.html) of this catalogue\n",
    "states that only 12,602 of the 58,117 entries could be associated to 10,592 unique objects known at the time. The rest are included as unidentified objects. We could likely identify\n",
    "the vast majority now using a tool like [SkyBoT](https://ssp.imcce.fr/webservices/skybot/) to check the SDSS field-of-views for asteroids known today, but this is not the purpose of this tutorial (and it has\n",
    "been done already).\n",
    "\n",
    "Instead, we drop all entries belonging to unknown asteroids here. We further set the number of unnumbered asteroids to `NaN` instead\n",
    "of the commonly used (but aesthetically questionable) `0`."
   ]
  },
  {
   "cell_type": "code",
   "execution_count": 3,
   "id": "9df5fa2a",
   "metadata": {},
   "outputs": [
    {
     "name": "stdout",
     "output_type": "stream",
     "text": [
      "Observations of known objects: 10585\n"
     ]
    },
    {
     "data": {
      "text/html": [
       "<div>\n",
       "<style scoped>\n",
       "    .dataframe tbody tr th:only-of-type {\n",
       "        vertical-align: middle;\n",
       "    }\n",
       "\n",
       "    .dataframe tbody tr th {\n",
       "        vertical-align: top;\n",
       "    }\n",
       "\n",
       "    .dataframe thead th {\n",
       "        text-align: right;\n",
       "    }\n",
       "</style>\n",
       "<table border=\"1\" class=\"dataframe\">\n",
       "  <thead>\n",
       "    <tr style=\"text-align: right;\">\n",
       "      <th></th>\n",
       "      <th>numeration</th>\n",
       "      <th>u</th>\n",
       "      <th>g</th>\n",
       "      <th>r</th>\n",
       "      <th>i</th>\n",
       "      <th>z</th>\n",
       "    </tr>\n",
       "  </thead>\n",
       "  <tbody>\n",
       "    <tr>\n",
       "      <th>count</th>\n",
       "      <td>3271.000000</td>\n",
       "      <td>12600.000000</td>\n",
       "      <td>12600.000000</td>\n",
       "      <td>12600.000000</td>\n",
       "      <td>12600.000000</td>\n",
       "      <td>12600.000000</td>\n",
       "    </tr>\n",
       "    <tr>\n",
       "      <th>mean</th>\n",
       "      <td>17464.664934</td>\n",
       "      <td>21.031693</td>\n",
       "      <td>19.406415</td>\n",
       "      <td>18.782208</td>\n",
       "      <td>18.612157</td>\n",
       "      <td>18.646316</td>\n",
       "    </tr>\n",
       "    <tr>\n",
       "      <th>std</th>\n",
       "      <td>9235.033631</td>\n",
       "      <td>1.125182</td>\n",
       "      <td>1.796740</td>\n",
       "      <td>1.077645</td>\n",
       "      <td>1.656807</td>\n",
       "      <td>2.083118</td>\n",
       "    </tr>\n",
       "    <tr>\n",
       "      <th>min</th>\n",
       "      <td>220.000000</td>\n",
       "      <td>16.480000</td>\n",
       "      <td>14.940000</td>\n",
       "      <td>14.520000</td>\n",
       "      <td>14.280000</td>\n",
       "      <td>14.250000</td>\n",
       "    </tr>\n",
       "    <tr>\n",
       "      <th>25%</th>\n",
       "      <td>9585.000000</td>\n",
       "      <td>20.380000</td>\n",
       "      <td>18.760000</td>\n",
       "      <td>18.160000</td>\n",
       "      <td>17.970000</td>\n",
       "      <td>17.980000</td>\n",
       "    </tr>\n",
       "    <tr>\n",
       "      <th>50%</th>\n",
       "      <td>17288.000000</td>\n",
       "      <td>21.080000</td>\n",
       "      <td>19.460000</td>\n",
       "      <td>18.860000</td>\n",
       "      <td>18.680000</td>\n",
       "      <td>18.690000</td>\n",
       "    </tr>\n",
       "    <tr>\n",
       "      <th>75%</th>\n",
       "      <td>25937.000000</td>\n",
       "      <td>21.730000</td>\n",
       "      <td>20.100000</td>\n",
       "      <td>19.510000</td>\n",
       "      <td>19.320000</td>\n",
       "      <td>19.330000</td>\n",
       "    </tr>\n",
       "    <tr>\n",
       "      <th>max</th>\n",
       "      <td>32729.000000</td>\n",
       "      <td>28.950000</td>\n",
       "      <td>99.990000</td>\n",
       "      <td>21.490000</td>\n",
       "      <td>99.990000</td>\n",
       "      <td>99.990000</td>\n",
       "    </tr>\n",
       "  </tbody>\n",
       "</table>\n",
       "</div>"
      ],
      "text/plain": [
       "         numeration             u             g             r             i  \\\n",
       "count   3271.000000  12600.000000  12600.000000  12600.000000  12600.000000   \n",
       "mean   17464.664934     21.031693     19.406415     18.782208     18.612157   \n",
       "std     9235.033631      1.125182      1.796740      1.077645      1.656807   \n",
       "min      220.000000     16.480000     14.940000     14.520000     14.280000   \n",
       "25%     9585.000000     20.380000     18.760000     18.160000     17.970000   \n",
       "50%    17288.000000     21.080000     19.460000     18.860000     18.680000   \n",
       "75%    25937.000000     21.730000     20.100000     19.510000     19.320000   \n",
       "max    32729.000000     28.950000     99.990000     21.490000     99.990000   \n",
       "\n",
       "                  z  \n",
       "count  12600.000000  \n",
       "mean      18.646316  \n",
       "std        2.083118  \n",
       "min       14.250000  \n",
       "25%       17.980000  \n",
       "50%       18.690000  \n",
       "75%       19.330000  \n",
       "max       99.990000  "
      ]
     },
     "execution_count": 3,
     "metadata": {},
     "output_type": "execute_result"
    }
   ],
   "source": [
    "# Remove the unknown objects\n",
    "data = data[data.designation.str.strip(\" \") != \"-\"]\n",
    "print(f\"Observations of known objects: {len(set(data.designation))}\")\n",
    "\n",
    "# Unnumbered objects should be NaN\n",
    "data.loc[data.numeration == 0, \"numeration\"] = np.nan\n",
    "\n",
    "data.describe()"
   ]
  },
  {
   "cell_type": "markdown",
   "id": "b4fb185f",
   "metadata": {},
   "source": [
    "Looking good so far. Since the catalogue came out over 20 years ago, we can expect a large fraction of theses asteroids to now have been numbered\n",
    "and even named. We thus add two columns, `name` and `number`. We query the current name and number using the `rocks.identify` function,\n",
    "which accepts a list of identifiers (like designations, numbers, names) and returns a list of tuples containing the name and number of the identified\n",
    "objects. We create the list of identifiers by combining the `numberation` and the `designation` columns."
   ]
  },
  {
   "cell_type": "code",
   "execution_count": 4,
   "id": "b14307f1",
   "metadata": {
    "lines_to_next_cell": 0
   },
   "outputs": [
    {
     "name": "stdout",
     "output_type": "stream",
     "text": [
      "Identifying known objects in catalogue..\n"
     ]
    },
    {
     "data": {
      "text/html": [
       "<pre style=\"white-space:pre;overflow-x:auto;line-height:normal;font-family:Menlo,'DejaVu Sans Mono',consolas,'Courier New',monospace\">\n",
       "</pre>\n"
      ],
      "text/plain": [
       "\n"
      ]
     },
     "metadata": {},
     "output_type": "display_data"
    }
   ],
   "source": [
    "# Create list of identifiers by merging 'numeration' and 'designation' columns\n",
    "ids = data.numeration.fillna(data.designation)\n",
    "print(\"Identifying known objects in catalogue..\")\n",
    "names_numbers = rocks.identify(ids)"
   ]
  },
  {
   "cell_type": "markdown",
   "id": "d8e8c1b2",
   "metadata": {},
   "source": [
    "The names and numbers are returned in the order of the passed identifiers. We can add them to the SDSS data using a simple list comprehension."
   ]
  },
  {
   "cell_type": "code",
   "execution_count": 5,
   "id": "a2cd9de4",
   "metadata": {},
   "outputs": [
    {
     "data": {
      "text/html": [
       "<div>\n",
       "<style scoped>\n",
       "    .dataframe tbody tr th:only-of-type {\n",
       "        vertical-align: middle;\n",
       "    }\n",
       "\n",
       "    .dataframe tbody tr th {\n",
       "        vertical-align: top;\n",
       "    }\n",
       "\n",
       "    .dataframe thead th {\n",
       "        text-align: right;\n",
       "    }\n",
       "</style>\n",
       "<table border=\"1\" class=\"dataframe\">\n",
       "  <thead>\n",
       "    <tr style=\"text-align: right;\">\n",
       "      <th></th>\n",
       "      <th>numeration</th>\n",
       "      <th>designation</th>\n",
       "      <th>u</th>\n",
       "      <th>g</th>\n",
       "      <th>r</th>\n",
       "      <th>i</th>\n",
       "      <th>z</th>\n",
       "      <th>name</th>\n",
       "      <th>number</th>\n",
       "    </tr>\n",
       "  </thead>\n",
       "  <tbody>\n",
       "    <tr>\n",
       "      <th>1</th>\n",
       "      <td>NaN</td>\n",
       "      <td>1999_RL189</td>\n",
       "      <td>21.41</td>\n",
       "      <td>19.88</td>\n",
       "      <td>19.22</td>\n",
       "      <td>18.92</td>\n",
       "      <td>19.01</td>\n",
       "      <td>1999 RL189</td>\n",
       "      <td>159415</td>\n",
       "    </tr>\n",
       "    <tr>\n",
       "      <th>3</th>\n",
       "      <td>11659.0</td>\n",
       "      <td>1997_EX41</td>\n",
       "      <td>19.86</td>\n",
       "      <td>18.30</td>\n",
       "      <td>17.81</td>\n",
       "      <td>17.70</td>\n",
       "      <td>17.70</td>\n",
       "      <td>1997 EX41</td>\n",
       "      <td>11659</td>\n",
       "    </tr>\n",
       "    <tr>\n",
       "      <th>7</th>\n",
       "      <td>3633.0</td>\n",
       "      <td>Mira</td>\n",
       "      <td>19.27</td>\n",
       "      <td>17.69</td>\n",
       "      <td>17.18</td>\n",
       "      <td>16.98</td>\n",
       "      <td>16.96</td>\n",
       "      <td>Mira</td>\n",
       "      <td>3633</td>\n",
       "    </tr>\n",
       "    <tr>\n",
       "      <th>8</th>\n",
       "      <td>NaN</td>\n",
       "      <td>2765_P-L</td>\n",
       "      <td>20.70</td>\n",
       "      <td>19.23</td>\n",
       "      <td>18.75</td>\n",
       "      <td>18.61</td>\n",
       "      <td>18.54</td>\n",
       "      <td>2765 P-L</td>\n",
       "      <td>39383</td>\n",
       "    </tr>\n",
       "    <tr>\n",
       "      <th>9</th>\n",
       "      <td>NaN</td>\n",
       "      <td>2000_SR274</td>\n",
       "      <td>21.51</td>\n",
       "      <td>19.64</td>\n",
       "      <td>19.11</td>\n",
       "      <td>18.92</td>\n",
       "      <td>18.86</td>\n",
       "      <td>2000 SR274</td>\n",
       "      <td>62569</td>\n",
       "    </tr>\n",
       "  </tbody>\n",
       "</table>\n",
       "</div>"
      ],
      "text/plain": [
       "   numeration designation      u      g      r      i      z        name  \\\n",
       "1         NaN  1999_RL189  21.41  19.88  19.22  18.92  19.01  1999 RL189   \n",
       "3     11659.0   1997_EX41  19.86  18.30  17.81  17.70  17.70   1997 EX41   \n",
       "7      3633.0        Mira  19.27  17.69  17.18  16.98  16.96        Mira   \n",
       "8         NaN    2765_P-L  20.70  19.23  18.75  18.61  18.54    2765 P-L   \n",
       "9         NaN  2000_SR274  21.51  19.64  19.11  18.92  18.86  2000 SR274   \n",
       "\n",
       "   number  \n",
       "1  159415  \n",
       "3   11659  \n",
       "7    3633  \n",
       "8   39383  \n",
       "9   62569  "
      ]
     },
     "execution_count": 5,
     "metadata": {},
     "output_type": "execute_result"
    }
   ],
   "source": [
    "# Add numbers and names to data\n",
    "data[\"name\"] = [name_number[0] for name_number in names_numbers]\n",
    "data[\"number\"] = [name_number[1] for name_number in names_numbers]\n",
    "\n",
    "# Print part of the result\n",
    "data.number = data.number.astype(\"Int64\")  # Int64 supports integers and NaN\n",
    "data.head()"
   ]
  },
  {
   "cell_type": "markdown",
   "id": "e80e616e",
   "metadata": {},
   "source": [
    "Great, this worked as expected.\n",
    "We set the datatype of the `number` columns to the `Int64` type as this type can deal with integers and `NaN` values.\n",
    "This is a useful little trick when working with the `number` column.\n",
    "\n",
    "Now that we know what asteroids we are working with, let's have a look at their colours."
   ]
  },
  {
   "cell_type": "code",
   "execution_count": 6,
   "id": "cc86ef26",
   "metadata": {},
   "outputs": [
    {
     "data": {
      "image/png": "[encoded data removed]",
      "text/plain": [
       "<Figure size 640x480 with 1 Axes>"
      ]
     },
     "metadata": {},
     "output_type": "display_data"
    }
   ],
   "source": [
    "fig, ax = plt.subplots()\n",
    "\n",
    "ax.scatter(data[\"g\"] - data[\"r\"], data[\"i\"] - data[\"z\"], alpha=0.4, s=10, lw=0)\n",
    "ax.set(xlabel=\"g-r\", ylabel=\"i-z\");"
   ]
  },
  {
   "cell_type": "markdown",
   "id": "d98bac24",
   "metadata": {},
   "source": [
    "We have some outliers that we remove generously."
   ]
  },
  {
   "cell_type": "code",
   "execution_count": 7,
   "id": "a30d7e76",
   "metadata": {},
   "outputs": [],
   "source": [
    "data = data[(data['g']-data['r']) < 2]\n",
    "data = data[(data['g']-data['r']) > -2]\n",
    "data = data[(data['i']-data['z']) < 2]\n",
    "data = data[(data['i']-data['z']) > -2]"
   ]
  },
  {
   "cell_type": "code",
   "execution_count": 8,
   "id": "bb662908",
   "metadata": {},
   "outputs": [
    {
     "data": {
      "image/png": "[encoded data removed]",
      "text/plain": [
       "<Figure size 640x480 with 1 Axes>"
      ]
     },
     "metadata": {},
     "output_type": "display_data"
    }
   ],
   "source": [
    "fig, ax = plt.subplots()\n",
    "\n",
    "ax.scatter(data[\"g\"] - data[\"r\"], data[\"i\"] - data[\"z\"], alpha=0.4, s=10, lw=0)\n",
    "ax.set(xlabel=\"g-r\", ylabel=\"i-z\");"
   ]
  },
  {
   "cell_type": "markdown",
   "id": "b8a77abd",
   "metadata": {},
   "source": [
    "Now it looks as we expected it. Next, we add some additional information to this plot.\n",
    "For each object, we query the albedo and the taxonomical complex from SsODNet using `rocks` and\n",
    "the $\\Delta$V from the MPC. `rocks` uses asynchronous queries, meaning that it will process multiple\n",
    "queries at the same time, while the `astroquery` code uses synchronous code, meaning that the queries are processed\n",
    "one after the other. We will see this difference in the execution time.\n",
    "\n",
    "For the `MPC` query, we have to specify whether we query the object by name,\n",
    "number, or designation. To simplify, we reduce the dataset to numbered\n",
    "asteroids and only take 100 entries in the catalogue for the sake of brevity.\n",
    "And for the sake of a fair comparison, we turn off the cache usage of `rocks`,\n",
    "which would typically prevent repeated queries to the server in favour of local\n",
    "copies of the data."
   ]
  },
  {
   "cell_type": "code",
   "execution_count": 9,
   "id": "84d8ad05",
   "metadata": {},
   "outputs": [
    {
     "data": {
      "text/html": [
       "<pre style=\"white-space:pre;overflow-x:auto;line-height:normal;font-family:Menlo,'DejaVu Sans Mono',consolas,'Courier New',monospace\">\n",
       "</pre>\n"
      ],
      "text/plain": [
       "\n"
      ]
     },
     "metadata": {},
     "output_type": "display_data"
    },
    {
     "name": "stdout",
     "output_type": "stream",
     "text": [
      "rocks took 7.20 seconds.\n"
     ]
    }
   ],
   "source": [
    "data = data[~pd.isna(data.number)]\n",
    "data = data[:100]\n",
    "rocks.CACHELESS = True\n",
    "\n",
    "start_time = time.time()\n",
    "targets = rocks.rocks(data['name'])\n",
    "\n",
    "for target in targets:\n",
    "  data.loc[data['name'] == target.name, 'complex'] = target.taxonomy.complex.value\n",
    "  data.loc[data['name'] == target.name, 'albedo'] = target.albedo.value\n",
    "print(f\"rocks took {time.time() - start_time:.2f} seconds.\")"
   ]
  },
  {
   "cell_type": "markdown",
   "id": "47bb91d3",
   "metadata": {},
   "source": [
    "For the `astroquery.MPC` module, we cannot disable caching, so only the first run of this block\n",
    "will give a representative result."
   ]
  },
  {
   "cell_type": "code",
   "execution_count": 10,
   "id": "b981f26c",
   "metadata": {},
   "outputs": [
    {
     "name": "stdout",
     "output_type": "stream",
     "text": [
      "astroquery took 21.73 seconds.\n"
     ]
    }
   ],
   "source": [
    "start_time = time.time()\n",
    "for ind, d in data.iterrows():\n",
    "  target = MPC.query_object('asteroid', number=d['number'])\n",
    "  data.loc[ind, 'delta_v'] = target[0]['delta_v']\n",
    "print(f\"astroquery took {time.time() - start_time:.2f} seconds.\")"
   ]
  },
  {
   "cell_type": "markdown",
   "id": "37f10800",
   "metadata": {},
   "source": [
    "`rocks` is about 5-6 times faster due to the asynchronous query logic.\n",
    "\n",
    "Since we removed a lot of data points to assess the different execution times, the plots\n",
    "are less impressive than before."
   ]
  },
  {
   "cell_type": "code",
   "execution_count": 11,
   "id": "f863da7d",
   "metadata": {},
   "outputs": [
    {
     "data": {
      "image/png": "[encoded data removed]",
      "text/plain": [
       "<Figure size 640x480 with 2 Axes>"
      ]
     },
     "metadata": {},
     "output_type": "display_data"
    }
   ],
   "source": [
    "fig, ax = plt.subplots()\n",
    "\n",
    "scat = ax.scatter(data[\"g\"] - data[\"r\"], data[\"i\"] - data[\"z\"], c=data['albedo'], cmap='cool')\n",
    "ax.set(xlabel=\"g-r\", ylabel=\"i-z\")\n",
    "fig.colorbar(scat, label='Albedo');"
   ]
  },
  {
   "cell_type": "markdown",
   "id": "d31a5abe",
   "metadata": {},
   "source": [
    "In practice, there is no issue working with tens/hundreds of thousands of data points like this, as both\n",
    "packages apply caching which significantly reduces the execution times on repeated runs."
   ]
  }
 ],
 "metadata": {
  "kernelspec": {
   "display_name": "Python 3 (ipykernel)",
   "language": "python",
   "name": "python3"
  },
  "language_info": {
   "codemirror_mode": {
    "name": "ipython",
    "version": 3
   },
   "file_extension": ".py",
   "mimetype": "text/x-python",
   "name": "python",
   "nbconvert_exporter": "python",
   "pygments_lexer": "ipython3",
   "version": "3.11.5"
  }
 },
 "nbformat": 4,
 "nbformat_minor": 5
}
